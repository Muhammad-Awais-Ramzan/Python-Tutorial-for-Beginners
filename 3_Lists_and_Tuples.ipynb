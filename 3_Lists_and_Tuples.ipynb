{
 "cells": [
  {
   "cell_type": "markdown",
   "id": "b0bb8dca",
   "metadata": {},
   "source": [
    "## 📚 Table of Contents\n",
    "\n",
    "1. [Lists](#1-lists)  \n",
    "   - [1.1 Access and change list items](#11-access-and-change-list-items)  \n",
    "   - [1.2 Add and remove list items](#12-add-and-remove-list-items)  \n",
    "   - [1.3 Loop lists](#13-loop-lists)\n",
    "   - [1.4 List Slicing](#14-list-slicing)\n",
    "   - [1.5 List Methods](#15-list-methods)\n"
   ]
  },
  {
   "cell_type": "markdown",
   "id": "c54887c3",
   "metadata": {},
   "source": [
    "### 1 Lists  \n",
    "A built-in sequence type in Python that stores ordered, mutable collections of values.\n",
    "**Mutable**: an object whose contents or state can be changed after it’s created.  \n",
    "\n",
    "<a id=\"1-lists\"></a>"
   ]
  },
  {
   "cell_type": "code",
   "execution_count": 1,
   "id": "f270fb6f",
   "metadata": {},
   "outputs": [
    {
     "name": "stdout",
     "output_type": "stream",
     "text": [
      "List: ['apple', 'banana', 'cherry']\n",
      "Type: <class 'list'>\n",
      "Length: 3\n"
     ]
    }
   ],
   "source": [
    "# Introduction to lists: creating a list and checking basic properties\n",
    "fruits = [\"apple\", \"banana\", \"cherry\"]\n",
    "print(\"List:\", fruits)           # the list itself\n",
    "print(\"Type:\", type(fruits))     # should be <class 'list'>\n",
    "print(\"Length:\", len(fruits))    # number of elements\n"
   ]
  },
  {
   "cell_type": "code",
   "execution_count": 5,
   "id": "880222e0",
   "metadata": {},
   "outputs": [
    {
     "name": "stdout",
     "output_type": "stream",
     "text": [
      "Mixed list: [42, 3.14, 'hello', True]\n",
      "Element types: ['int', 'float', 'str', 'bool']\n"
     ]
    }
   ],
   "source": [
    "# Demonstration: a list can hold elements of different types\n",
    "mixed = [42,            # integer\n",
    "         3.14,          # float\n",
    "         \"hello\",       # string\n",
    "         True]          # boolean\n",
    "\n",
    "print(\"Mixed list:\", mixed)\n",
    "print(\"Element types:\", [type(x).__name__ for x in mixed])"
   ]
  },
  {
   "cell_type": "markdown",
   "id": "9752fd8b",
   "metadata": {},
   "source": [
    "### 1.1 Access and change list items  \n",
    "Access elements by index and modify list items using assignment.\n",
    "<a id=\"11-access-and-change-list-items\"></a>  \n"
   ]
  },
  {
   "cell_type": "code",
   "execution_count": 2,
   "id": "a1a5b0be",
   "metadata": {},
   "outputs": [
    {
     "name": "stdout",
     "output_type": "stream",
     "text": [
      "First item: 10\n",
      "Updated list: [10, 20, 35, 40, 50]\n"
     ]
    }
   ],
   "source": [
    "# Access and change list items\n",
    "numbers = [10, 20, 30, 40, 50]\n",
    "print(\"First item:\", numbers[0])  # index 0\n",
    "numbers[2] = 35                   # change the third element\n",
    "print(\"Updated list:\", numbers)\n"
   ]
  },
  {
   "cell_type": "markdown",
   "id": "1f16bd12",
   "metadata": {},
   "source": [
    "### 1.2 Add and remove list items  \n",
    "Use methods like append(), insert(), pop() and remove() to modify list contents.\n",
    "<a id=\"12-add-and-remove-list-items\"></a>"
   ]
  },
  {
   "cell_type": "code",
   "execution_count": 3,
   "id": "df2e8e6a",
   "metadata": {},
   "outputs": [
    {
     "name": "stdout",
     "output_type": "stream",
     "text": [
      "After additions: ['red', 'orange', 'green', 'blue', 'yellow']\n",
      "After removals: ['red', 'orange', 'blue'] ; Popped: yellow\n"
     ]
    }
   ],
   "source": [
    "# Add and remove list items\n",
    "colors = [\"red\", \"green\", \"blue\"]\n",
    "colors.append(\"yellow\")           # add to end\n",
    "colors.insert(1, \"orange\")        # add at position 1\n",
    "print(\"After additions:\", colors)\n",
    "\n",
    "colors.remove(\"green\")            # remove by value\n",
    "last = colors.pop()               # remove and return last element\n",
    "print(\"After removals:\", colors, \"; Popped:\", last)\n"
   ]
  },
  {
   "cell_type": "markdown",
   "id": "2729d495",
   "metadata": {},
   "source": [
    "### 1.3 Loop lists  \n",
    "Iterate over list elements using a for-loop.\n",
    "<a id=\"13-loop-lists\"></a>  "
   ]
  },
  {
   "cell_type": "code",
   "execution_count": null,
   "id": "6f0360ad",
   "metadata": {},
   "outputs": [
    {
     "name": "stdout",
     "output_type": "stream",
     "text": [
      "Animal: cat\n",
      "Animal: dog\n",
      "Animal: rabbit\n"
     ]
    }
   ],
   "source": [
    "# Loop through a list\n",
    "animals = [\"cat\", \"dog\", \"rabbit\"]\n",
    "for animal in animals:\n",
    "    print(\"Animal:\", animal)"
   ]
  },
  {
   "cell_type": "markdown",
   "id": "249a9ee8",
   "metadata": {},
   "source": [
    "### 1.4 List Slicing  \n",
    "Similar to string slicing, you can extract a sublist with `your_list[start:stop]`, where the `stop` index is exclusive.  \n",
    "Omitting `start` defaults to `0`, omitting `stop` defaults to `len(your_list)`, and negative indices count backward from the end.\n",
    "<a id=\"14-list-slicing\"></a>  "
   ]
  },
  {
   "cell_type": "code",
   "execution_count": 6,
   "id": "e74756d3",
   "metadata": {},
   "outputs": [
    {
     "name": "stdout",
     "output_type": "stream",
     "text": [
      "All weekly sales: [200, 220, 210, 230, 240, 180, 190]\n",
      "weekly_sales[1:4]: [220, 210, 230]\n",
      "weekly_sales[:4] == weekly_sales[0:4]: [200, 220, 210, 230] [200, 220, 210, 230]\n",
      "weekly_sales[2:] == weekly_sales[2:len(weekly_sales)]: [210, 230, 240, 180, 190] [210, 230, 240, 180, 190]\n",
      "weekly_sales[-3:-1]: [240, 180]\n"
     ]
    }
   ],
   "source": [
    "# Example: weekly sales figures (Monday through Sunday)\n",
    "weekly_sales = [200, 220, 210, 230, 240, 180, 190]\n",
    "print(\"All weekly sales:\", weekly_sales)\n",
    "\n",
    "# 1. Slice from index 1 up to (but not including) 4 → Tuesday–Thursday\n",
    "print(\"weekly_sales[1:4]:\", weekly_sales[1:4])\n",
    "\n",
    "# 2. Slice the first four days → Monday–Thursday (same as 0:4)\n",
    "print(\"weekly_sales[:4] == weekly_sales[0:4]:\", weekly_sales[:4], weekly_sales[0:4])\n",
    "\n",
    "# 3. Slice from index 2 to end → Wednesday–Sunday\n",
    "print(\"weekly_sales[2:] == weekly_sales[2:len(weekly_sales)]:\", \n",
    "      weekly_sales[2:], weekly_sales[2:len(weekly_sales)])\n",
    "\n",
    "# 4. Slice using negative indices → two days before last, excluding last day\n",
    "#    (-3 is Friday, -1 is Sunday exclusive, so you get [Friday, Saturday])\n",
    "print(\"weekly_sales[-3:-1]:\", weekly_sales[-3:-1])\n"
   ]
  },
  {
   "cell_type": "markdown",
   "id": "45263a1a",
   "metadata": {},
   "source": [
    "### 1.5 List Methods  \n",
    "Python has a set of built-in methods that you can use on lists.\n",
    "\n",
    "| Method     | Description                                                                 |\n",
    "|------------|-----------------------------------------------------------------------------|\n",
    "| `append()` | Adds an element at the end of the list                                       |\n",
    "| `clear()`  | Removes all the elements from the list                                       |\n",
    "| `copy()`   | Returns a shallow copy of the list                                           |\n",
    "| `count()`  | Returns the number of elements with the specified value                      |\n",
    "| `extend()` | Adds the elements of an iterable (e.g., another list) to the end of the list |\n",
    "| `index()`  | Returns the index of the first element with the specified value              |\n",
    "| `insert()` | Inserts an element at the specified position                                 |\n",
    "| `pop()`    | Removes the element at the specified position and returns it                 |\n",
    "| `remove()` | Removes the first occurrence of the specified value                          |\n",
    "| `reverse()`| Reverses the order of the list in place                                      |\n",
    "| `sort()`   | Sorts the list in ascending order                                            |\n",
    "\n",
    "<a id=\"15-list-methods\"></a>  \n"
   ]
  },
  {
   "cell_type": "code",
   "execution_count": 9,
   "id": "fe009f3c",
   "metadata": {},
   "outputs": [
    {
     "name": "stdout",
     "output_type": "stream",
     "text": [
      "Initial list: [5, 2, 9, 2, 7]\n",
      "After append(4): [5, 2, 9, 2, 7, 4]\n",
      "After clear(): []\n",
      "Copied list: [5, 2, 9, 2, 7, 4]\n",
      "Count of 2: 2\n",
      "After extend([8, 6]): [5, 2, 9, 2, 7, 4, 8, 6]\n",
      "Index of 9: 2\n"
     ]
    }
   ],
   "source": [
    "# Example: simple list of integers\n",
    "nums = [5, 2, 9, 2, 7]\n",
    "print(\"Initial list:\", nums)\n",
    "\n",
    "# append(): add an element at the end\n",
    "nums.append(4)\n",
    "print(\"After append(4):\", nums)\n",
    "\n",
    "# clear(): remove all elements from a separate copy\n",
    "nums_clear = nums.copy()\n",
    "nums_clear.clear()\n",
    "print(\"After clear():\", nums_clear)\n",
    "\n",
    "# copy(): create a shallow copy of the list\n",
    "nums_copy = nums.copy()\n",
    "print(\"Copied list:\", nums_copy)\n",
    "\n",
    "# count(): number of occurrences of a value\n",
    "print(\"Count of 2:\", nums.count(2))\n",
    "\n",
    "# extend(): add multiple elements from another iterable\n",
    "nums.extend([8, 6])\n",
    "print(\"After extend([8, 6]):\", nums)\n",
    "\n",
    "# index(): get the index of the first occurrence\n",
    "print(\"Index of 9:\", nums.index(9))"
   ]
  },
  {
   "cell_type": "code",
   "execution_count": 10,
   "id": "47ba50e5",
   "metadata": {},
   "outputs": [
    {
     "name": "stdout",
     "output_type": "stream",
     "text": [
      "After insert(2, 3): [5, 2, 3, 9, 2, 7, 4, 8, 6]\n",
      "After pop(3): [5, 2, 3, 2, 7, 4, 8, 6] ; Popped: 9\n",
      "After remove(2): [5, 3, 2, 7, 4, 8, 6]\n",
      "After reverse(): [6, 8, 4, 7, 2, 3, 5]\n",
      "After sort(): [2, 3, 4, 5, 6, 7, 8]\n"
     ]
    }
   ],
   "source": [
    "# insert(): insert an element at index 2\n",
    "nums.insert(2, 3)\n",
    "print(\"After insert(2, 3):\", nums)\n",
    "\n",
    "# pop(): remove and return element at index 3\n",
    "popped = nums.pop(3)\n",
    "print(\"After pop(3):\", nums, \"; Popped:\", popped)\n",
    "\n",
    "# remove(): remove the first occurrence of a value\n",
    "nums.remove(2)\n",
    "print(\"After remove(2):\", nums)\n",
    "\n",
    "# reverse(): reverse the list in place\n",
    "nums.reverse()\n",
    "print(\"After reverse():\", nums)\n",
    "\n",
    "# sort(): sort the list in ascending order\n",
    "nums.sort()\n",
    "print(\"After sort():\", nums)\n"
   ]
  },
  {
   "cell_type": "markdown",
   "id": "5f3d640d",
   "metadata": {},
   "source": []
  }
 ],
 "metadata": {
  "kernelspec": {
   "display_name": ".venv",
   "language": "python",
   "name": "python3"
  },
  "language_info": {
   "codemirror_mode": {
    "name": "ipython",
    "version": 3
   },
   "file_extension": ".py",
   "mimetype": "text/x-python",
   "name": "python",
   "nbconvert_exporter": "python",
   "pygments_lexer": "ipython3",
   "version": "3.13.1"
  }
 },
 "nbformat": 4,
 "nbformat_minor": 5
}
