{
 "cells": [
  {
   "cell_type": "markdown",
   "id": "9b1294f0",
   "metadata": {},
   "source": [
    "## 📚 Table of Contents\n",
    "\n",
    "1. [Print Function](#1-print-function)  \n",
    "2. [Variables in Python](#2-variables-in-python)  \n",
    "3. [Data Types](#3-data-types)  \n",
    "   - [3.1 Integers](#31-integers)  \n",
    "   - [3.2 Strings](#32-strings)  \n",
    "   - [3.3 Float](#33-float)  \n",
    "   - [3.4 Boolean](#34-boolean)  \n",
    "   - [3.5 None](#35-none)  \n",
    "4. [Type Conversion & Casting](#4-type-conversion-casting)\n",
    "5. [Keywords](#5-keywords)  \n",
    "6. [Comments in Python](#6-comments-in-python)\n",
    "7. [Types of Operators](#7-types-of-operators)  \n",
    "   - [7.1 Arithmetic Operators](#71-arithmetic-operators)  \n",
    "   - [7.2 Relational / Comparison Operators](#72-relational-comparison-operators)  \n",
    "   - [7.3 Assignment Operators](#73-assignment-operators)  \n",
    "   - [7.4 Logical Operators](#74-logical-operators)\n",
    "   - [7.5 Membership Operators](#75-membership-operators)\n",
    "   - [7.6 Identity Operators](#76-identity-operators)\n",
    "   - [7.7 Bitwise Operators](#77-bitwise-operators)\n",
    "   - [7.8 Operator Precedence in Python](#78-operator-precedence-in-python)\n",
    "8. [Expression Execution](#8-expression-execution)  \n",
    "   - [8.1 String and Numeric with * (Repetition)](#81-string-and-numeric-with--repetition)  \n",
    "   - [8.2 String and String with + (Concatenation)](#82-string-and-string-with--concatenation)  \n",
    "   - [8.3 Numeric Expressions with Arithmetic Operators](#83-numeric-expressions-with-arithmetic-operators)  \n",
    "   - [8.4 Arithmetic Expression with Int and Float](#84-arithmetic-expression-with-int-and-float)  \n",
    "   - [8.5 Division with Integers Returns Float](#85-division-with-integers-returns-float)  \n",
    "   - [8.6 Integer Division // with Int and Float](#86-integer-division--with-int-and-float)  \n",
    "   - [8.7 Floor Division Examples](#87-floor-division-examples)  \n",
    "   - [8.8 Remainder with Negative Numbers](#88-remainder-with-negative-numbers)\n",
    "9. [Input in Python](#9-input-in-python)  \n",
    "   - [9.1 String Input](#91-string-input)  \n",
    "   - [9.2 Integer Input](#92-integer-input)  \n",
    "   - [9.3 Float Input](#93-float-input)\n",
    "10. [Practice Questions (with Solutions)](#10-practice-questions-with-solutions)\n",
    "\n"
   ]
  },
  {
   "cell_type": "markdown",
   "id": "c03c2ca1",
   "metadata": {},
   "source": [
    "## 1. Print Function  \n",
    "\n",
    "The `print()` function is used to display output on the screen in Python.\n",
    "<a id=\"1-print-function\"></a>"
   ]
  },
  {
   "cell_type": "code",
   "execution_count": 4,
   "id": "65384f8a",
   "metadata": {},
   "outputs": [
    {
     "name": "stdout",
     "output_type": "stream",
     "text": [
      "Hello, World!\n",
      "Name: Awais | Age: 24\n",
      "My name is Awais and I am 24 years old.\n",
      "Apple | Banana | Cherry <- This is the end\n"
     ]
    }
   ],
   "source": [
    "# Basic usage of print\n",
    "print(\"Hello, World!\")\n",
    "\n",
    "# Printing multiple values\n",
    "name = \"Awais\"\n",
    "age = 24\n",
    "print(\"Name:\", name, \"| Age:\", age)\n",
    "\n",
    "# Using formatted strings (f-strings)\n",
    "print(f\"My name is {name} and I am {age} years old.\")\n",
    "\n",
    "# Using sep and end parameters\n",
    "print(\"Apple\", \"Banana\", \"Cherry\", sep=\" | \", end=\" <- This is the end\\n\")\n"
   ]
  },
  {
   "cell_type": "markdown",
   "id": "975dc320",
   "metadata": {},
   "source": [
    "<a id=\"2-variables-in-python\"></a>\n",
    "\n",
    "## 2. Variables in Python  \n",
    "Variables are used to store data values which can be used and modified throughout the program.\n",
    "\n",
    "\n",
    "### Rules for Identifiers (Variable Names):\n",
    "\n",
    "- Must begin with a letter (A–Z or a–z) or an underscore `_`\n",
    "- Can contain letters, digits (0–9), and underscores\n",
    "- **Cannot start with a digit** (`variable1` is valid, `1variable` is not)\n",
    "- **Cannot be a Python keyword** (e.g., `for`, `while`, `if`, etc.)\n",
    "- Are **case-sensitive** (`age` and `Age` are different)\n",
    "- **Cannot include special characters** like `!`, `#`, `@`, `%`, `$`, etc.\n",
    "- Can be of **any length**.\n",
    "- **Variable names should be simple, short, and meaningful**.\n",
    "\n"
   ]
  },
  {
   "cell_type": "code",
   "execution_count": 5,
   "id": "bf0e8b91",
   "metadata": {},
   "outputs": [
    {
     "name": "stdout",
     "output_type": "stream",
     "text": [
      "Name: Awais\n",
      "Age: 23\n",
      "Height: 5.7\n",
      "Is a student: False\n",
      "Updated Age: 24\n",
      "x: 1 y: 2 z: 3\n"
     ]
    }
   ],
   "source": [
    "# Assigning values to variables\n",
    "name = \"Awais\"\n",
    "age = 23\n",
    "height = 5.7\n",
    "is_student = False\n",
    "\n",
    "# Displaying variable values\n",
    "print(\"Name:\", name)\n",
    "print(\"Age:\", age)\n",
    "print(\"Height:\", height)\n",
    "print(\"Is a student:\", is_student)\n",
    "\n",
    "# Changing the value of a variable\n",
    "age = 24\n",
    "print(\"Updated Age:\", age)\n",
    "\n",
    "# Multiple assignments in one line\n",
    "x, y, z = 1, 2, 3\n",
    "print(\"x:\", x, \"y:\", y, \"z:\", z)\n"
   ]
  },
  {
   "cell_type": "markdown",
   "id": "da48cde3",
   "metadata": {},
   "source": [
    "## 3. Data Types  \n",
    "Python has several built-in data types to store different kinds of values.\n",
    "\n",
    "<a id=\"3-data-types\"></a>\n"
   ]
  },
  {
   "cell_type": "markdown",
   "id": "4c96e569",
   "metadata": {},
   "source": [
    "### 3.1 Integers  \n",
    "Integers (`int`) represent whole numbers, which can be positive, negative, or zero.\n",
    "\n",
    "<a id=\"31-integers\"></a>\n"
   ]
  },
  {
   "cell_type": "code",
   "execution_count": 7,
   "id": "138db0dc",
   "metadata": {},
   "outputs": [
    {
     "name": "stdout",
     "output_type": "stream",
     "text": [
      "25 -25 0\n",
      "Type of a: <class 'int'>\n"
     ]
    }
   ],
   "source": [
    "# Examples of Integers\n",
    "a = 25\n",
    "b = -25\n",
    "c = 0\n",
    "print(a, b, c)\n",
    "print(\"Type of a:\", type(a))\n"
   ]
  },
  {
   "cell_type": "markdown",
   "id": "45c5e280",
   "metadata": {},
   "source": [
    "### 3.2 Strings  \n",
    "Strings (`str`) are sequences of characters, used to store text data. Enclosed in single or double quotes.\n",
    "\n",
    "<a id=\"32-strings\"></a>\n"
   ]
  },
  {
   "cell_type": "code",
   "execution_count": 10,
   "id": "4a780f6c",
   "metadata": {},
   "outputs": [
    {
     "name": "stdout",
     "output_type": "stream",
     "text": [
      "Awais\n",
      "Hello!\n",
      "Type of greeting: <class 'str'>\n"
     ]
    }
   ],
   "source": [
    "# Examples of Strings\n",
    "name = \"Awais\"\n",
    "greeting = \"Hello!\"\n",
    "print(name)\n",
    "print(greeting)\n",
    "print(\"Type of greeting:\", type(greeting))\n"
   ]
  },
  {
   "cell_type": "markdown",
   "id": "afe9c268",
   "metadata": {},
   "source": [
    "### 3.3 Float  \n",
    "Floats (`float`) are used for numbers with decimal points.\n",
    "\n",
    "<a id=\"33-float\"></a>\n"
   ]
  },
  {
   "cell_type": "code",
   "execution_count": 12,
   "id": "fbaa484c",
   "metadata": {},
   "outputs": [
    {
     "name": "stdout",
     "output_type": "stream",
     "text": [
      "3.99  -  2.5  -  9.0\n",
      "Type of price: <class 'float'>\n"
     ]
    }
   ],
   "source": [
    "# Examples of Floats\n",
    "price = 3.99\n",
    "length = 2.5\n",
    "weight = 9.0\n",
    "print(price, \" - \", length, \" - \", weight)\n",
    "print(\"Type of price:\", type(price))\n"
   ]
  },
  {
   "cell_type": "markdown",
   "id": "15457cd1",
   "metadata": {},
   "source": [
    "### 3.4 Boolean  \n",
    "Booleans (`bool`) represent logical values: `True` or `False`.\n",
    "\n",
    "<a id=\"34-boolean\"></a>\n"
   ]
  },
  {
   "cell_type": "code",
   "execution_count": 14,
   "id": "3200bb43",
   "metadata": {},
   "outputs": [
    {
     "name": "stdout",
     "output_type": "stream",
     "text": [
      "True  -  False\n",
      "Type of is_active: <class 'bool'>\n"
     ]
    }
   ],
   "source": [
    "# Examples of Booleans\n",
    "is_active = True\n",
    "is_deleted = False\n",
    "print(is_active, \" - \", is_deleted)\n",
    "print(\"Type of is_active:\", type(is_active))\n"
   ]
  },
  {
   "cell_type": "markdown",
   "id": "1082c597",
   "metadata": {},
   "source": [
    "### 3.5 None  \n",
    "`None` is a special value in Python representing the absence of a value.\n",
    "\n",
    "<a id=\"35-none\"></a>\n"
   ]
  },
  {
   "cell_type": "code",
   "execution_count": 15,
   "id": "a6afb8b4",
   "metadata": {},
   "outputs": [
    {
     "name": "stdout",
     "output_type": "stream",
     "text": [
      "None\n",
      "Type of a: <class 'NoneType'>\n"
     ]
    }
   ],
   "source": [
    "# Example of None\n",
    "a = None\n",
    "print(a)\n",
    "print(\"Type of a:\", type(a))\n"
   ]
  },
  {
   "cell_type": "markdown",
   "id": "d9596276",
   "metadata": {},
   "source": [
    "## 4. Type Conversion & Casting  \n",
    "Type conversion (or type casting) is the process of converting the value of one data type to another.  \n",
    "It helps ensure compatibility during operations (e.g., adding int and float), but errors occur if types are incompatible.\n",
    "\n",
    "<a id=\"4-type-conversion-casting\"></a>\n"
   ]
  },
  {
   "cell_type": "code",
   "execution_count": 5,
   "id": "9a2c656b",
   "metadata": {},
   "outputs": [
    {
     "name": "stdout",
     "output_type": "stream",
     "text": [
      "3.0\n",
      "<class 'float'>\n",
      "3\n"
     ]
    }
   ],
   "source": [
    "# Example: Automatic Type Conversion (int + float = float)\n",
    "a, b = 1, 2.0\n",
    "sum_ab = a + b\n",
    "print(sum_ab)    # Output: 3.0\n",
    "print(type(sum_ab))  # Output: <class 'float'>\n",
    "\n",
    "# Example: Error when adding int and string directly\n",
    "a, b = 1, \"2\"\n",
    "# sum_ab = a + b    # This will raise a TypeError\n",
    "\n",
    "# Correct way: Explicit Type Conversion (Casting)\n",
    "sum_ab = a + int(b)\n",
    "print(sum_ab)    # Output: 3\n"
   ]
  },
  {
   "cell_type": "markdown",
   "id": "fbbb9313",
   "metadata": {},
   "source": [
    "## 5. Keywords  \n",
    "**Definition:** Keywords are reserved words in Python that have special meaning and cannot be used as identifiers (variable names).\n",
    "\n",
    "**Purpose:** They define the syntax and structure of the Python language and are used to perform specific operations.\n",
    "\n",
    "<a id=\"5-keywords\"></a>\n",
    "\n",
    " \n",
    "### Reserved Keywords in Python\n",
    "\n",
    "| and   | else   | in      | return   |\n",
    "|-------|--------|---------|----------|\n",
    "| as    | except | is      | True     |\n",
    "| assert| finally| lambda  | try      |\n",
    "| break | False  | nonlocal| with     |\n",
    "| class | for    | None    | while    |\n",
    "| continue | from| not     | yield    |\n",
    "| def   | global | or      |          |\n",
    "| del   | if     | pass    |          |\n",
    "| elif  | import | raise   |          |\n",
    "\n",
    "\n",
    "\n"
   ]
  },
  {
   "cell_type": "code",
   "execution_count": null,
   "id": "f9d6d96c",
   "metadata": {},
   "outputs": [
    {
     "name": "stdout",
     "output_type": "stream",
     "text": [
      "5\n"
     ]
    }
   ],
   "source": [
    "# Trying to use a keyword as a variable name will cause a SyntaxError\n",
    "# Uncomment the following line to see the error:\n",
    "\n",
    "# for = 5   # This will produce a SyntaxError: invalid syntax\n",
    "\n",
    "# Instead, use valid variable names\n",
    "value_for = 5\n",
    "print(value_for)\n"
   ]
  },
  {
   "cell_type": "markdown",
   "id": "677555d6",
   "metadata": {},
   "source": [
    "## 6. Comments in Python  \n",
    "Comments are notes in the code that are ignored by the Python interpreter. They are used to explain and improve the readability of code.\n",
    "\n",
    "<a id=\"6-comments-in-python\"></a>\n"
   ]
  },
  {
   "cell_type": "code",
   "execution_count": 4,
   "id": "4804be1d",
   "metadata": {},
   "outputs": [
    {
     "name": "stdout",
     "output_type": "stream",
     "text": [
      "Hello, World!\n"
     ]
    }
   ],
   "source": [
    "# Single Line Comment\n",
    "# This is a single line comment in Python\n",
    "\n",
    "\"\"\"\n",
    "Multi Line Comment\n",
    "You can write comments on multiple lines\n",
    "by enclosing them within triple quotes.\n",
    "\"\"\"\n",
    "\n",
    "print(\"Hello, World!\")"
   ]
  },
  {
   "cell_type": "markdown",
   "id": "78cc4b93",
   "metadata": {},
   "source": [
    "## 7. Types of Operators  \n",
    "An operator is a symbol that performs a certain operation between operands.\n",
    "\n",
    "<a id=\"7-types-of-operators\"></a>\n"
   ]
  },
  {
   "cell_type": "markdown",
   "id": "17f871b1",
   "metadata": {},
   "source": [
    "### 7.1 Arithmetic Operators  \n",
    "Arithmetic operators are used for mathematical calculations like addition, subtraction, multiplication, division, modulus, and exponentiation.\n",
    "\n",
    "<a id=\"71-arithmetic-operators\"></a>\n"
   ]
  },
  {
   "cell_type": "code",
   "execution_count": 7,
   "id": "989ff06f",
   "metadata": {},
   "outputs": [
    {
     "name": "stdout",
     "output_type": "stream",
     "text": [
      "a + b = 13\n",
      "a - b = 7\n",
      "a * b = 30\n",
      "a / b = 3.3333333333333335\n",
      "a % b = 1\n",
      "a ** b = 1000\n"
     ]
    }
   ],
   "source": [
    "a = 10\n",
    "b = 3\n",
    "\n",
    "print(\"a + b =\", a + b)   # Addition\n",
    "print(\"a - b =\", a - b)   # Subtraction\n",
    "print(\"a * b =\", a * b)   # Multiplication\n",
    "print(\"a / b =\", a / b)   # Division\n",
    "print(\"a % b =\", a % b)   # Modulus (remainder)\n",
    "print(\"a ** b =\", a ** b) # Exponentiation (a to the power of b)\n"
   ]
  },
  {
   "cell_type": "markdown",
   "id": "46f38b40",
   "metadata": {},
   "source": [
    "### 7.2 Relational / Comparison Operators  \n",
    "Comparison operators are used to compare two values and return a boolean result (`True` or `False`).\n",
    "\n",
    "<a id=\"72-relational-comparison-operators\"></a>\n"
   ]
  },
  {
   "cell_type": "code",
   "execution_count": 8,
   "id": "7af625a6",
   "metadata": {},
   "outputs": [
    {
     "name": "stdout",
     "output_type": "stream",
     "text": [
      "x == y: False\n",
      "x != y: True\n",
      "x > y: False\n",
      "x < y: True\n",
      "x >= y: False\n",
      "x <= y: True\n"
     ]
    }
   ],
   "source": [
    "x = 5\n",
    "y = 10\n",
    "\n",
    "print(\"x == y:\", x == y)   # Equal to\n",
    "print(\"x != y:\", x != y)   # Not equal to\n",
    "print(\"x > y:\", x > y)     # Greater than\n",
    "print(\"x < y:\", x < y)     # Less than\n",
    "print(\"x >= y:\", x >= y)   # Greater than or equal to\n",
    "print(\"x <= y:\", x <= y)   # Less than or equal to\n"
   ]
  },
  {
   "cell_type": "markdown",
   "id": "0fc3e207",
   "metadata": {},
   "source": [
    "### 7.3 Assignment Operators  \n",
    "Assignment operators are used to assign values to variables and can also perform arithmetic operations before assignment.\n",
    "\n",
    "<a id=\"73-assignment-operators\"></a>\n"
   ]
  },
  {
   "cell_type": "code",
   "execution_count": 9,
   "id": "7782a1d1",
   "metadata": {},
   "outputs": [
    {
     "name": "stdout",
     "output_type": "stream",
     "text": [
      "a after += 2: 7\n",
      "a after -= 1: 6\n",
      "a after *= 3: 18\n",
      "a after /= 2: 9.0\n",
      "a after %= 3: 0.0\n",
      "a after **= 2: 0.0\n"
     ]
    }
   ],
   "source": [
    "a = 5        # Assign\n",
    "a += 2       # a = a + 2\n",
    "print(\"a after += 2:\", a)\n",
    "a -= 1       # a = a - 1\n",
    "print(\"a after -= 1:\", a)\n",
    "a *= 3       # a = a * 3\n",
    "print(\"a after *= 3:\", a)\n",
    "a /= 2       # a = a / 2\n",
    "print(\"a after /= 2:\", a)\n",
    "a %= 3       # a = a % 3\n",
    "print(\"a after %= 3:\", a)\n",
    "a **= 2      # a = a ** 2\n",
    "print(\"a after **= 2:\", a)\n"
   ]
  },
  {
   "cell_type": "markdown",
   "id": "4593bc09",
   "metadata": {},
   "source": [
    "### 7.4 Logical Operators  \n",
    "Logical operators are used to combine conditional statements and return a boolean result.\n",
    "\n",
    "<a id=\"74-logical-operators\"></a>\n"
   ]
  },
  {
   "cell_type": "code",
   "execution_count": 10,
   "id": "e126ab8b",
   "metadata": {},
   "outputs": [
    {
     "name": "stdout",
     "output_type": "stream",
     "text": [
      "not p: False\n",
      "p and q: False\n",
      "p or q: True\n"
     ]
    }
   ],
   "source": [
    "p = True\n",
    "q = False\n",
    "\n",
    "print(\"not p:\", not p)          # Logical NOT\n",
    "print(\"p and q:\", p and q)      # Logical AND\n",
    "print(\"p or q:\", p or q)        # Logical OR\n"
   ]
  },
  {
   "cell_type": "markdown",
   "id": "30220b8e",
   "metadata": {},
   "source": [
    "### 7.5 Membership Operators  \n",
    "Membership operators are used to test if a value is a member of a sequence (like a list, tuple, or string).\n",
    "\n",
    "<a id=\"75-membership-operators\"></a>\n"
   ]
  },
  {
   "cell_type": "code",
   "execution_count": 29,
   "id": "f228e431",
   "metadata": {},
   "outputs": [
    {
     "name": "stdout",
     "output_type": "stream",
     "text": [
      "True\n",
      "True\n"
     ]
    }
   ],
   "source": [
    "nums = [1, 2, 3, 4]\n",
    "print(2 in nums)      # Output: True\n",
    "print(5 not in nums)  # Output: True\n"
   ]
  },
  {
   "cell_type": "markdown",
   "id": "8003ce24",
   "metadata": {},
   "source": [
    "### 7.6 Identity Operators  \n",
    "Identity operators check whether two variables refer to the **same object** in memory.\n",
    "\n",
    "<a id=\"76-identity-operators\"></a>\n"
   ]
  },
  {
   "cell_type": "code",
   "execution_count": 30,
   "id": "30592665",
   "metadata": {},
   "outputs": [
    {
     "name": "stdout",
     "output_type": "stream",
     "text": [
      "True\n",
      "False\n",
      "True\n"
     ]
    }
   ],
   "source": [
    "a = [1, 2, 3]\n",
    "b = a\n",
    "c = [1, 2, 3]\n",
    "print(a is b)      # Output: True  (same object)\n",
    "print(a is c)      # Output: False (same contents, different object)\n",
    "print(a is not c)  # Output: True\n"
   ]
  },
  {
   "cell_type": "markdown",
   "id": "ca1bd349",
   "metadata": {},
   "source": [
    "### 7.7 Bitwise Operators  \n",
    "Bitwise operators perform operations on the binary representations of integers.\n",
    "\n",
    "<a id=\"77-bitwise-operators\"></a>\n"
   ]
  },
  {
   "cell_type": "code",
   "execution_count": 31,
   "id": "adbd4a92",
   "metadata": {},
   "outputs": [
    {
     "name": "stdout",
     "output_type": "stream",
     "text": [
      "1\n",
      "7\n",
      "6\n",
      "-6\n",
      "10\n",
      "2\n"
     ]
    }
   ],
   "source": [
    "a = 5       # 0b0101\n",
    "b = 3       # 0b0011\n",
    "\n",
    "print(a & b)   # AND  => 1  (0b0001)\n",
    "print(a | b)   # OR   => 7  (0b0111)\n",
    "print(a ^ b)   # XOR  => 6  (0b0110)\n",
    "print(~a)      # NOT  => -6 (inverts all bits)\n",
    "print(a << 1)  # Left shift  => 10 (0b1010)\n",
    "print(a >> 1)  # Right shift => 2  (0b0010)\n"
   ]
  },
  {
   "cell_type": "markdown",
   "id": "633f7e67",
   "metadata": {},
   "source": [
    "### 7.8 Operator Precedence in Python  \n",
    "Operator precedence determines the order in which operations are evaluated in an expression.  \n",
    "Operators with higher precedence are evaluated before those with lower precedence.\n",
    "\n",
    "<a id=\"78-operator-precedence-in-python\"></a>\n",
    "\n",
    "| Precedence (High → Low)      | Operator(s)                                     |\n",
    "|-----------------------------|-------------------------------------------------|\n",
    "| 1 (highest)                 | `()` (parentheses)                              |\n",
    "| 2                           | `**`                                            |\n",
    "| 3                           | `+x`, `-x`, `~x` (unary plus, minus, NOT)       |\n",
    "| 4                           | `*`, `/`, `//`, `%`                             |\n",
    "| 5                           | `+`, `-`                                        |\n",
    "| 6                           | `<<`, `>>`                                      |\n",
    "| 7                           | `&`                                             |\n",
    "| 8                           | `^`                                             |\n",
    "| 9                           | `|`                                             |\n",
    "| 10                          | `==`, `!=`, `>`, `<`, `>=`, `<=`, `is`, `is not`, `in`, `not in` |\n",
    "| 11                          | `not`                                           |\n",
    "| 12                          | `and`                                           |\n",
    "| 13 (lowest)                 | `or`                                            |\n"
   ]
  },
  {
   "cell_type": "code",
   "execution_count": 32,
   "id": "135a6891",
   "metadata": {},
   "outputs": [
    {
     "name": "stdout",
     "output_type": "stream",
     "text": [
      "13\n",
      "25\n",
      "True\n"
     ]
    }
   ],
   "source": [
    "# Example: Operator precedence\n",
    "result = 3 + 2 * 5           # Multiplication (*) has higher precedence than addition (+)\n",
    "print(result)                # Output: 13\n",
    "\n",
    "result = (3 + 2) * 5         # Parentheses have highest precedence\n",
    "print(result)                # Output: 25\n",
    "\n",
    "a = True\n",
    "b = False\n",
    "c = True\n",
    "print(a or b and c)          # 'and' is evaluated before 'or'\n",
    "# Output: True\n"
   ]
  },
  {
   "cell_type": "markdown",
   "id": "ecbc6eff",
   "metadata": {},
   "source": [
    "## 8. Expression Execution  \n",
    "Expressions are combinations of values, variables, and operators that are evaluated to produce another value.  \n",
    "Below are some important behaviors of expression execution in Python.\n",
    "\n",
    "\n",
    "<a id=\"8-expression-execution\"></a>\n"
   ]
  },
  {
   "cell_type": "markdown",
   "id": "92b44856",
   "metadata": {},
   "source": [
    "### 8.1 String and Numeric with * (Repetition)  \n",
    "A string can be multiplied by a numeric value to repeat the string that many times.\n",
    "\n",
    "<a id=\"81-string-and-numeric-with--repetition\"></a>\n"
   ]
  },
  {
   "cell_type": "code",
   "execution_count": 20,
   "id": "3525f0d6",
   "metadata": {},
   "outputs": [
    {
     "name": "stdout",
     "output_type": "stream",
     "text": [
      "@@@@@@\n"
     ]
    }
   ],
   "source": [
    "A, B = 2, 3\n",
    "Txt = \"@\"\n",
    "print(2 * Txt * 3)  # Output: @@@@@@"
   ]
  },
  {
   "cell_type": "markdown",
   "id": "dfbceaa5",
   "metadata": {},
   "source": [
    "### 8.2 String and String with `+` (Concatenation)  \n",
    "Two strings can be combined (concatenated) using the `+` operator.  \n",
    "You can also repeat a concatenated string with `*`.\n",
    "\n",
    "<a id=\"82-string-and-string-with--concatenation\"></a>"
   ]
  },
  {
   "cell_type": "code",
   "execution_count": 14,
   "id": "24b66f85",
   "metadata": {},
   "outputs": [
    {
     "name": "stdout",
     "output_type": "stream",
     "text": [
      "2@2@2@\n"
     ]
    }
   ],
   "source": [
    "A, B = \"2\", 3\n",
    "Txt = \"@\"\n",
    "print((A + Txt) * B)  # Output: 2@2@2@"
   ]
  },
  {
   "cell_type": "markdown",
   "id": "75534d9e",
   "metadata": {},
   "source": [
    "### 8.3 Numeric Expressions with Arithmetic Operators  \n",
    "Numeric values (int/float) can be used with arithmetic operators (`+`, `-`, `*`, `/`, etc.).\n",
    "\n",
    "<a id=\"83-numeric-expressions-with-arithmetic-operators\"></a>"
   ]
  },
  {
   "cell_type": "code",
   "execution_count": 15,
   "id": "3933734a",
   "metadata": {},
   "outputs": [
    {
     "name": "stdout",
     "output_type": "stream",
     "text": [
      "14\n"
     ]
    }
   ],
   "source": [
    "A, B = 2, 3\n",
    "C = 4\n",
    "print(A + B * C)  # Output: 14\n",
    "# Because B*C is evaluated first, then added to A\n"
   ]
  },
  {
   "cell_type": "markdown",
   "id": "697cd497",
   "metadata": {},
   "source": [
    "### 8.4 Arithmetic Expression with Int and Float  \n",
    "When an arithmetic expression involves both int and float, the result is a float.\n",
    "\n",
    "<a id=\"84-arithmetic-expression-with-int-and-float\"></a>\n"
   ]
  },
  {
   "cell_type": "code",
   "execution_count": 21,
   "id": "2dd6f2f9",
   "metadata": {},
   "outputs": [
    {
     "name": "stdout",
     "output_type": "stream",
     "text": [
      "50.0\n"
     ]
    }
   ],
   "source": [
    "A, B = 10, 5.0\n",
    "C = A * B\n",
    "print(C)  # Output: 50.0\n"
   ]
  },
  {
   "cell_type": "markdown",
   "id": "e7072841",
   "metadata": {},
   "source": [
    "### 8.5 Division with Integers Returns Float  \n",
    "Dividing two integers with `/` returns a float.\n",
    "\n",
    "<a id=\"85-division-with-integers-returns-float\"></a>"
   ]
  },
  {
   "cell_type": "code",
   "execution_count": null,
   "id": "b16cb81d",
   "metadata": {},
   "outputs": [
    {
     "name": "stdout",
     "output_type": "stream",
     "text": [
      "0.5\n"
     ]
    }
   ],
   "source": [
    "A, B = 1, 2\n",
    "C = A / B\n",
    "print(C)  # Output: 0.5"
   ]
  },
  {
   "cell_type": "markdown",
   "id": "af8435e1",
   "metadata": {},
   "source": [
    "### 8.6 Integer Division `//` with Int and Float  \n",
    "Using `//` (floor division) with floats or ints gives the closest integer **as a float** (if any operand is a float).\n",
    "\n",
    "<a id=\"86-integer-division--with-int-and-float\"></a>"
   ]
  },
  {
   "cell_type": "code",
   "execution_count": 18,
   "id": "cc312a65",
   "metadata": {},
   "outputs": [
    {
     "name": "stdout",
     "output_type": "stream",
     "text": [
      "0.0 0.5\n"
     ]
    }
   ],
   "source": [
    "A, B = 1.5, 3\n",
    "print(A // B, A / B)  # Output: 0.0 0.5"
   ]
  },
  {
   "cell_type": "markdown",
   "id": "a3a0dc55",
   "metadata": {},
   "source": [
    "### 8.7 Floor Division Examples  \n",
    "Floor division `//` gives the closest integer less than or equal to the result.  \n",
    "It is the same as `math.floor(A / B)` for numeric types.\n",
    "\n",
    "<a id=\"87-floor-division-examples\"></a>"
   ]
  },
  {
   "cell_type": "code",
   "execution_count": 19,
   "id": "abe62d07",
   "metadata": {},
   "outputs": [
    {
     "name": "stdout",
     "output_type": "stream",
     "text": [
      "2\n",
      "-3\n",
      "-3\n"
     ]
    }
   ],
   "source": [
    "A, B = 12, 5\n",
    "print(A // B)  # Output: 2\n",
    "\n",
    "A, B = -12, 5\n",
    "print(A // B)  # Output: -3\n",
    "\n",
    "A, B = 12, -5\n",
    "print(A // B)  # Output: -3"
   ]
  },
  {
   "cell_type": "markdown",
   "id": "a611a312",
   "metadata": {},
   "source": [
    "### 8.8 Remainder with Negative Numbers  \n",
    "In Python, the remainder `a % b` takes the **sign of the denominator (`b`)**.  \n",
    "Let’s see all four possible cases:\n",
    "\n",
    "| Numerator (n) | Denominator (d) | Expression | Result | Explanation                |\n",
    "|:-------------:|:---------------:|:----------|:------:|:--------------------------|\n",
    "|   Positive    |    Positive     |  5 % 2    |   1    | Both positive, normal mod  |\n",
    "|   Negative    |    Positive     | -5 % 2    |   1    | Remainder positive         |\n",
    "|   Positive    |    Negative     |  5 % -2   |  -1    | Remainder matches divisor  |\n",
    "|   Negative    |    Negative     | -5 % -2   |  -1    | Remainder negative         |\n",
    "\n",
    "<a id=\"88-remainder-with-negative-numbers\"></a>\n"
   ]
  },
  {
   "cell_type": "code",
   "execution_count": 22,
   "id": "3b2def35",
   "metadata": {},
   "outputs": [
    {
     "name": "stdout",
     "output_type": "stream",
     "text": [
      "1\n",
      "1\n",
      "-1\n",
      "-1\n"
     ]
    }
   ],
   "source": [
    "# Both numerator and denominator positive\n",
    "print(5 % 2)    # Output: 1\n",
    "\n",
    "# Numerator negative, denominator positive\n",
    "print(-5 % 2)   # Output: 1\n",
    "\n",
    "# Numerator positive, denominator negative\n",
    "print(5 % -2)   # Output: -1\n",
    "\n",
    "# Both numerator and denominator negative\n",
    "print(-5 % -2)  # Output: -1\n"
   ]
  },
  {
   "cell_type": "markdown",
   "id": "5bd2d783",
   "metadata": {},
   "source": [
    "## 9. Input in Python  \n",
    "The `input()` statement is used to accept values (using keyboard) from the user.  \n",
    "The result of `input()` is always a string, but you can convert it to `int` or `float` as needed.\n",
    "\n",
    "<a id=\"9-input-in-python\"></a>\n"
   ]
  },
  {
   "cell_type": "markdown",
   "id": "767aab48",
   "metadata": {},
   "source": [
    "### 9.1 String Input  \n",
    "Accepts user input as a string (default behavior).\n",
    "\n",
    "<a id=\"91-string-input\"></a>\n"
   ]
  },
  {
   "cell_type": "code",
   "execution_count": 24,
   "id": "e843d2f8",
   "metadata": {},
   "outputs": [
    {
     "name": "stdout",
     "output_type": "stream",
     "text": [
      "Hello, Muhammad Awais\n"
     ]
    }
   ],
   "source": [
    "name = input(\"Enter your name: \")\n",
    "print(\"Hello,\", name)\n"
   ]
  },
  {
   "cell_type": "markdown",
   "id": "4425a898",
   "metadata": {},
   "source": [
    "### 9.2 Integer Input  \n",
    "Accepts user input, converts it to an integer using `int()`.\n",
    "\n",
    "<a id=\"92-integer-input\"></a>\n"
   ]
  },
  {
   "cell_type": "code",
   "execution_count": 25,
   "id": "6b4f477d",
   "metadata": {},
   "outputs": [
    {
     "name": "stdout",
     "output_type": "stream",
     "text": [
      "Your age is: 24\n"
     ]
    }
   ],
   "source": [
    "age = int(input(\"Enter your age: \"))\n",
    "print(\"Your age is:\", age)\n"
   ]
  },
  {
   "cell_type": "markdown",
   "id": "1b7b2221",
   "metadata": {},
   "source": [
    "### 9.3 Float Input  \n",
    "Accepts user input, converts it to a float using `float()`.\n",
    "\n",
    "<a id=\"93-float-input\"></a>\n"
   ]
  },
  {
   "cell_type": "code",
   "execution_count": 28,
   "id": "e4dab7cd",
   "metadata": {},
   "outputs": [
    {
     "name": "stdout",
     "output_type": "stream",
     "text": [
      "Your height is: 5.7 feet\n"
     ]
    }
   ],
   "source": [
    "height = float(input(\"Enter your height in feet: \"))\n",
    "print(\"Your height is:\", height, \"feet\")"
   ]
  },
  {
   "cell_type": "markdown",
   "id": "3d49db7a",
   "metadata": {},
   "source": [
    "## 10. Practice Questions (with Solutions)  \n",
    "Try these common Python problems to test your understanding!\n",
    "\n",
    "<a id=\"10-practice-questions-with-solutions\"></a>\n"
   ]
  },
  {
   "cell_type": "markdown",
   "id": "fe2fbd55",
   "metadata": {},
   "source": [
    "### Q1. Write a Program to input 2 numbers & print their sum.\n",
    "\n",
    "<details>\n",
    "<summary>💡 View Solution</summary>\n",
    "\n",
    "```python\n",
    "a = int(input(\"Enter first number: \"))\n",
    "b = int(input(\"Enter second number: \"))\n",
    "print(\"Sum:\", a + b)\n"
   ]
  },
  {
   "cell_type": "markdown",
   "id": "13fd139b",
   "metadata": {},
   "source": [
    "### Q2 Write a Program to input the side of a square & print its area.\n",
    "\n",
    "<details>\n",
    "<summary>💡 View Solution</summary>\n",
    "\n",
    "```python\n",
    "side = float(input(\"Enter side of the square: \"))\n",
    "area = side ** 2\n",
    "print(\"Area of square:\", area)\n"
   ]
  },
  {
   "cell_type": "markdown",
   "id": "1ad6249b",
   "metadata": {},
   "source": [
    "### Q3. Write a Program to input 2 floating point numbers & print their average.\n",
    "\n",
    "<details>\n",
    "<summary>💡 View Solution</summary>\n",
    "\n",
    "```python\n",
    "num1 = float(input(\"Enter first number: \"))\n",
    "num2 = float(input(\"Enter second number: \"))\n",
    "average = (num1 + num2) / 2\n",
    "print(\"Average:\", average)\n"
   ]
  },
  {
   "cell_type": "markdown",
   "id": "8dffb7f7",
   "metadata": {},
   "source": [
    "### Q4. Write a Program to input 2 int numbers, a and b. Print True if a is greater than or equal to b. If not, print False.\n",
    "\n",
    "<details>\n",
    "<summary>💡 View Solution</summary>\n",
    "\n",
    "```python\n",
    "a = int(input(\"Enter a: \"))\n",
    "b = int(input(\"Enter b: \"))\n",
    "print(a >= b)\n"
   ]
  },
  {
   "cell_type": "markdown",
   "id": "ec854283",
   "metadata": {},
   "source": [
    "### Q5. Write a Program to input a number and print whether it is even or odd.\n",
    "\n",
    "<details>\n",
    "<summary>💡 View Solution</summary>\n",
    "\n",
    "```python\n",
    "num = int(input(\"Enter a number: \"))\n",
    "if num % 2 == 0:\n",
    "    print(\"Even\")\n",
    "else:\n",
    "    print(\"Odd\")\n"
   ]
  },
  {
   "cell_type": "code",
   "execution_count": null,
   "id": "ffa2efb1",
   "metadata": {},
   "outputs": [],
   "source": []
  }
 ],
 "metadata": {
  "kernelspec": {
   "display_name": "Python 3",
   "language": "python",
   "name": "python3"
  },
  "language_info": {
   "codemirror_mode": {
    "name": "ipython",
    "version": 3
   },
   "file_extension": ".py",
   "mimetype": "text/x-python",
   "name": "python",
   "nbconvert_exporter": "python",
   "pygments_lexer": "ipython3",
   "version": "3.13.1"
  }
 },
 "nbformat": 4,
 "nbformat_minor": 5
}
