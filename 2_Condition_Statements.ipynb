{
 "cells": [
  {
   "cell_type": "markdown",
   "id": "7020e2b3",
   "metadata": {},
   "source": [
    "## 📚 Table of Contents\n",
    "\n",
    "1. [Conditional Statements](#1-conditional-statements)  \n",
    "   - [1.1 if Statement](#11-if-statement)  \n",
    "   - [1.2 if-else Statement](#12-if-else-statement)  \n",
    "   - [1.3 elif Statement](#13-elif-statement)  \n",
    "   - [1.4 Nested if Statements](#14-nested-if-statements)  \n",
    "   - [1.5 Short Hand if and if-else](#14-short-hand-if-and-if-else)  \n",
    "   - [1.6 Logical Operators in Conditions](#15-logical-operators-in-conditions)\n",
    "   - [1.7 Ternary Operator (Clever If)](#17-ternary-operator-clever-if)\n"
   ]
  },
  {
   "cell_type": "markdown",
   "id": "bd7fccb6",
   "metadata": {},
   "source": [
    "## 1. Conditional Statements  \n",
    "Conditional statements allow you to execute different code blocks based on specific conditions.  \n",
    "They help control the flow of your program using `if`, `elif`, and `else`.\n",
    "\n",
    "<a id=\"1-conditional-statements\"></a>\n",
    "\n",
    "**Syntax:**\n",
    "\n",
    "```python\n",
    "if condition:\n",
    "    # Statement1\n",
    "elif condition:\n",
    "    # Statement2\n",
    "else:\n",
    "    # StatementN\n"
   ]
  },
  {
   "cell_type": "code",
   "execution_count": 1,
   "id": "4cebde2e",
   "metadata": {},
   "outputs": [
    {
     "name": "stdout",
     "output_type": "stream",
     "text": [
      "Your grade is: A\n"
     ]
    }
   ],
   "source": [
    "# Example: Grading system based on marks\n",
    "marks = int(input(\"Enter your marks: \"))\n",
    "\n",
    "if marks >= 90:\n",
    "    grade = \"A\"\n",
    "elif marks >= 80:\n",
    "    grade = \"B\"\n",
    "elif marks >= 70:\n",
    "    grade = \"C\"\n",
    "else:\n",
    "    grade = \"D\"\n",
    "\n",
    "print(\"Your grade is:\", grade)\n"
   ]
  },
  {
   "cell_type": "markdown",
   "id": "1485d7ca",
   "metadata": {},
   "source": [
    "### 1.1 if Statement  \n",
    "The `if` statement executes a block of code only if its condition is True.\n",
    "\n",
    "<a id=\"11-if-statement\"></a>"
   ]
  },
  {
   "cell_type": "code",
   "execution_count": 2,
   "id": "518f467b",
   "metadata": {},
   "outputs": [
    {
     "name": "stdout",
     "output_type": "stream",
     "text": [
      "x is positive\n"
     ]
    }
   ],
   "source": [
    "# Example of if statement\n",
    "x = int(input(\"Enter a number: \"))\n",
    "if x > 0:\n",
    "    print(\"x is positive\")\n"
   ]
  },
  {
   "cell_type": "markdown",
   "id": "fbda50af",
   "metadata": {},
   "source": [
    "### 1.2 if-else Statement  \n",
    "The `if-else` statement provides an alternative block of code if the condition is False.\n",
    "\n",
    "<a id=\"12-if-else-statement\"></a>\n"
   ]
  },
  {
   "cell_type": "code",
   "execution_count": 3,
   "id": "695e478c",
   "metadata": {},
   "outputs": [
    {
     "name": "stdout",
     "output_type": "stream",
     "text": [
      "x is even\n"
     ]
    }
   ],
   "source": [
    "# Example of if-else statement\n",
    "x = int(input(\"Enter a number: \"))\n",
    "if x % 2 == 0:\n",
    "    print(\"x is even\")\n",
    "else:\n",
    "    print(\"x is odd\")\n"
   ]
  },
  {
   "cell_type": "markdown",
   "id": "38d1ab7a",
   "metadata": {},
   "source": [
    "### 1.3 elif Statement  \n",
    "The `elif` statement allows testing multiple conditions sequentially.\n",
    "\n",
    "<a id=\"13-elif-statement\"></a>\n"
   ]
  },
  {
   "cell_type": "code",
   "execution_count": 4,
   "id": "e4567f07",
   "metadata": {},
   "outputs": [
    {
     "name": "stdout",
     "output_type": "stream",
     "text": [
      "Grade B\n"
     ]
    }
   ],
   "source": [
    "# Example of if-elif-else for grading\n",
    "marks = int(input(\"Enter your marks: \"))\n",
    "if marks >= 90:\n",
    "    print(\"Grade A\")\n",
    "elif marks >= 80:\n",
    "    print(\"Grade B\")\n",
    "elif marks >= 70:\n",
    "    print(\"Grade C\")\n",
    "else:\n",
    "    print(\"Grade D\")\n"
   ]
  },
  {
   "cell_type": "markdown",
   "id": "5dad550d",
   "metadata": {},
   "source": [
    "### 1.4 Nested if Statements  \n",
    "Nested `if` statements place one `if` inside another to test additional conditions.\n",
    "\n",
    "<a id=\"14-nested-if-statements\"></a>\n"
   ]
  },
  {
   "cell_type": "code",
   "execution_count": 5,
   "id": "1e6f57c7",
   "metadata": {},
   "outputs": [
    {
     "name": "stdout",
     "output_type": "stream",
     "text": [
      "Negative\n"
     ]
    }
   ],
   "source": [
    "# Example of nested if\n",
    "num = int(input(\"Enter a number: \"))\n",
    "if num >= 0:\n",
    "    if num == 0:\n",
    "        print(\"Zero\")\n",
    "    else:\n",
    "        print(\"Positive\")\n",
    "else:\n",
    "    print(\"Negative\")\n"
   ]
  },
  {
   "cell_type": "markdown",
   "id": "b0fc45c0",
   "metadata": {},
   "source": [
    "### 1.5 Short Hand if and if-else  \n",
    "Python supports single-line `if` and `if-else` statements for brevity.\n",
    "\n",
    "<a id=\"15-short-hand-if-and-if-else\"></a>\n"
   ]
  },
  {
   "cell_type": "code",
   "execution_count": 6,
   "id": "4496d0bd",
   "metadata": {},
   "outputs": [
    {
     "name": "stdout",
     "output_type": "stream",
     "text": [
      "Positive\n",
      "Even\n"
     ]
    }
   ],
   "source": [
    "# Single-line if\n",
    "num = int(input(\"Enter a number: \"))\n",
    "if num > 0: print(\"Positive\")\n",
    "\n",
    "# Single-line if-else\n",
    "result = \"Even\" if num % 2 == 0 else \"Odd\"\n",
    "print(result)\n"
   ]
  },
  {
   "cell_type": "markdown",
   "id": "4c5517f7",
   "metadata": {},
   "source": [
    "### 1.6 Logical Operators in Conditions  \n",
    "Logical operators (`and`, `or`, `not`) combine boolean conditions in `if` statements.\n",
    "\n",
    "<a id=\"16-logical-operators-in-conditions\"></a>\n"
   ]
  },
  {
   "cell_type": "code",
   "execution_count": 7,
   "id": "474f7784",
   "metadata": {},
   "outputs": [
    {
     "name": "stdout",
     "output_type": "stream",
     "text": [
      "Allowed entry\n"
     ]
    }
   ],
   "source": [
    "# Example using logical operators in an if condition\n",
    "age = int(input(\"Enter your age: \"))\n",
    "has_id = input(\"Do you have an ID? (yes/no): \").strip().lower() == \"yes\"\n",
    "\n",
    "if age >= 18 and has_id:\n",
    "    print(\"Allowed entry\")\n",
    "else:\n",
    "    print(\"Entry denied\")\n"
   ]
  },
  {
   "cell_type": "markdown",
   "id": "32cbf564",
   "metadata": {},
   "source": [
    "### 1.7 Ternary Operator (Clever If)  \n",
    "A compact way to assign a value based on a condition using a single line.\n",
    "\n",
    "<a id=\"17-ternary-operator-clever-if\"></a>\n",
    "\n",
    "**Syntax:**\n",
    "\n",
    "```python\n",
    "variable = (false_val, true_val)[condition]\n"
   ]
  },
  {
   "cell_type": "code",
   "execution_count": 8,
   "id": "fa52dda5",
   "metadata": {},
   "outputs": [
    {
     "name": "stdout",
     "output_type": "stream",
     "text": [
      "Voting status: Eligible\n"
     ]
    }
   ],
   "source": [
    "\n",
    "# Example 1: Voting eligibility\n",
    "age = int(input(\"Enter your age: \"))\n",
    "# If age >= 18 is True → index 1, else → index 0\n",
    "vote = (\"Not eligible\", \"Eligible\")[age >= 18]\n",
    "print(\"Voting status:\", vote)\n",
    "\n"
   ]
  },
  {
   "cell_type": "code",
   "execution_count": 11,
   "id": "24b1486d",
   "metadata": {},
   "outputs": [
    {
     "name": "stdout",
     "output_type": "stream",
     "text": [
      "Tax amount: 5000.0\n"
     ]
    }
   ],
   "source": [
    "# Example 2: Tiered tax rate\n",
    "salary = float(input(\"Enter your salary: \"))\n",
    "# If salary <= 50000 is True → index 1 (lower rate), else → index 0 (higher rate)\n",
    "tax = (salary * 0.2, salary * 0.1)[salary <= 50000]\n",
    "print(\"Tax amount:\", tax)\n"
   ]
  },
  {
   "cell_type": "code",
   "execution_count": null,
   "id": "b37c73ab",
   "metadata": {},
   "outputs": [],
   "source": []
  }
 ],
 "metadata": {
  "kernelspec": {
   "display_name": "Python 3",
   "language": "python",
   "name": "python3"
  },
  "language_info": {
   "codemirror_mode": {
    "name": "ipython",
    "version": 3
   },
   "file_extension": ".py",
   "mimetype": "text/x-python",
   "name": "python",
   "nbconvert_exporter": "python",
   "pygments_lexer": "ipython3",
   "version": "3.13.1"
  }
 },
 "nbformat": 4,
 "nbformat_minor": 5
}
