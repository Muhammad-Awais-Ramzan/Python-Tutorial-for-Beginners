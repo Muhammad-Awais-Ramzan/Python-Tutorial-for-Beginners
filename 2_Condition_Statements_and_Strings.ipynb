{
 "cells": [
  {
   "cell_type": "markdown",
   "id": "7020e2b3",
   "metadata": {},
   "source": [
    "## 📚 Table of Contents\n",
    "\n",
    "1. [Conditional Statements](#1-conditional-statements)  \n",
    "   - [1.1 if Statement](#11-if-statement)  \n",
    "   - [1.2 if-else Statement](#12-if-else-statement)  \n",
    "   - [1.3 elif Statement](#13-elif-statement)  \n",
    "   - [1.4 Nested if Statements](#14-nested-if-statements)  \n",
    "   - [1.5 Short Hand if and if-else](#14-short-hand-if-and-if-else)  \n",
    "   - [1.6 Logical Operators in Conditions](#15-logical-operators-in-conditions)\n",
    "   - [1.7 Ternary Operator (Clever If)](#17-ternary-operator-clever-if)\n",
    "2. [Strings](#2-strings)  \n",
    "   - [2.1 Indexing](#21-indexing)\n",
    "   - [2.2 Slicing](#22-slicing)  \n",
    "   - [2.3 String Methods](#23-string-methods)\n",
    "   - [2.4 Escape Characters](#24-escape-character)\n",
    "3. [Practice Questions (with Solutions)](#3-practice-questions-with-solutions)\n"
   ]
  },
  {
   "cell_type": "markdown",
   "id": "bd7fccb6",
   "metadata": {},
   "source": [
    "## 1. Conditional Statements  \n",
    "Conditional statements allow you to execute different code blocks based on specific conditions.  \n",
    "They help control the flow of your program using `if`, `elif`, and `else`.\n",
    "\n",
    "<a id=\"1-conditional-statements\"></a>\n",
    "\n",
    "**Syntax:**\n",
    "\n",
    "```python\n",
    "if condition:\n",
    "    # Statement1\n",
    "elif condition:\n",
    "    # Statement2\n",
    "else:\n",
    "    # StatementN\n"
   ]
  },
  {
   "cell_type": "code",
   "execution_count": 1,
   "id": "4cebde2e",
   "metadata": {},
   "outputs": [
    {
     "name": "stdout",
     "output_type": "stream",
     "text": [
      "Your grade is: A\n"
     ]
    }
   ],
   "source": [
    "# Example: Grading system based on marks\n",
    "marks = int(input(\"Enter your marks: \"))\n",
    "\n",
    "if marks >= 90:\n",
    "    grade = \"A\"\n",
    "elif marks >= 80:\n",
    "    grade = \"B\"\n",
    "elif marks >= 70:\n",
    "    grade = \"C\"\n",
    "else:\n",
    "    grade = \"D\"\n",
    "\n",
    "print(\"Your grade is:\", grade)\n"
   ]
  },
  {
   "cell_type": "markdown",
   "id": "1485d7ca",
   "metadata": {},
   "source": [
    "### 1.1 if Statement  \n",
    "The `if` statement executes a block of code only if its condition is True.\n",
    "\n",
    "<a id=\"11-if-statement\"></a>"
   ]
  },
  {
   "cell_type": "code",
   "execution_count": 2,
   "id": "518f467b",
   "metadata": {},
   "outputs": [
    {
     "name": "stdout",
     "output_type": "stream",
     "text": [
      "x is positive\n"
     ]
    }
   ],
   "source": [
    "# Example of if statement\n",
    "x = int(input(\"Enter a number: \"))\n",
    "if x > 0:\n",
    "    print(\"x is positive\")\n"
   ]
  },
  {
   "cell_type": "markdown",
   "id": "fbda50af",
   "metadata": {},
   "source": [
    "### 1.2 if-else Statement  \n",
    "The `if-else` statement provides an alternative block of code if the condition is False.\n",
    "\n",
    "<a id=\"12-if-else-statement\"></a>\n"
   ]
  },
  {
   "cell_type": "code",
   "execution_count": 3,
   "id": "695e478c",
   "metadata": {},
   "outputs": [
    {
     "name": "stdout",
     "output_type": "stream",
     "text": [
      "x is even\n"
     ]
    }
   ],
   "source": [
    "# Example of if-else statement\n",
    "x = int(input(\"Enter a number: \"))\n",
    "if x % 2 == 0:\n",
    "    print(\"x is even\")\n",
    "else:\n",
    "    print(\"x is odd\")\n"
   ]
  },
  {
   "cell_type": "markdown",
   "id": "38d1ab7a",
   "metadata": {},
   "source": [
    "### 1.3 elif Statement  \n",
    "The `elif` statement allows testing multiple conditions sequentially.\n",
    "\n",
    "<a id=\"13-elif-statement\"></a>\n"
   ]
  },
  {
   "cell_type": "code",
   "execution_count": 4,
   "id": "e4567f07",
   "metadata": {},
   "outputs": [
    {
     "name": "stdout",
     "output_type": "stream",
     "text": [
      "Grade B\n"
     ]
    }
   ],
   "source": [
    "# Example of if-elif-else for grading\n",
    "marks = int(input(\"Enter your marks: \"))\n",
    "if marks >= 90:\n",
    "    print(\"Grade A\")\n",
    "elif marks >= 80:\n",
    "    print(\"Grade B\")\n",
    "elif marks >= 70:\n",
    "    print(\"Grade C\")\n",
    "else:\n",
    "    print(\"Grade D\")\n"
   ]
  },
  {
   "cell_type": "markdown",
   "id": "5dad550d",
   "metadata": {},
   "source": [
    "### 1.4 Nested if Statements  \n",
    "Nested `if` statements place one `if` inside another to test additional conditions.\n",
    "\n",
    "<a id=\"14-nested-if-statements\"></a>\n"
   ]
  },
  {
   "cell_type": "code",
   "execution_count": 5,
   "id": "1e6f57c7",
   "metadata": {},
   "outputs": [
    {
     "name": "stdout",
     "output_type": "stream",
     "text": [
      "Negative\n"
     ]
    }
   ],
   "source": [
    "# Example of nested if\n",
    "num = int(input(\"Enter a number: \"))\n",
    "if num >= 0:\n",
    "    if num == 0:\n",
    "        print(\"Zero\")\n",
    "    else:\n",
    "        print(\"Positive\")\n",
    "else:\n",
    "    print(\"Negative\")\n"
   ]
  },
  {
   "cell_type": "markdown",
   "id": "b0fc45c0",
   "metadata": {},
   "source": [
    "### 1.5 Short Hand if and if-else  \n",
    "Python supports single-line `if` and `if-else` statements for brevity.\n",
    "\n",
    "<a id=\"15-short-hand-if-and-if-else\"></a>\n"
   ]
  },
  {
   "cell_type": "code",
   "execution_count": 6,
   "id": "4496d0bd",
   "metadata": {},
   "outputs": [
    {
     "name": "stdout",
     "output_type": "stream",
     "text": [
      "Positive\n",
      "Even\n"
     ]
    }
   ],
   "source": [
    "# Single-line if\n",
    "num = int(input(\"Enter a number: \"))\n",
    "if num > 0: print(\"Positive\")\n",
    "\n",
    "# Single-line if-else\n",
    "result = \"Even\" if num % 2 == 0 else \"Odd\"\n",
    "print(result)\n"
   ]
  },
  {
   "cell_type": "markdown",
   "id": "4c5517f7",
   "metadata": {},
   "source": [
    "### 1.6 Logical Operators in Conditions  \n",
    "Logical operators (`and`, `or`, `not`) combine boolean conditions in `if` statements.\n",
    "\n",
    "<a id=\"16-logical-operators-in-conditions\"></a>\n"
   ]
  },
  {
   "cell_type": "code",
   "execution_count": 7,
   "id": "474f7784",
   "metadata": {},
   "outputs": [
    {
     "name": "stdout",
     "output_type": "stream",
     "text": [
      "Allowed entry\n"
     ]
    }
   ],
   "source": [
    "# Example using logical operators in an if condition\n",
    "age = int(input(\"Enter your age: \"))\n",
    "has_id = input(\"Do you have an ID? (yes/no): \").strip().lower() == \"yes\"\n",
    "\n",
    "if age >= 18 and has_id:\n",
    "    print(\"Allowed entry\")\n",
    "else:\n",
    "    print(\"Entry denied\")\n"
   ]
  },
  {
   "cell_type": "markdown",
   "id": "32cbf564",
   "metadata": {},
   "source": [
    "### 1.7 Ternary Operator (Clever If)  \n",
    "A compact way to assign a value based on a condition using a single line.\n",
    "\n",
    "<a id=\"17-ternary-operator-clever-if\"></a>\n",
    "\n",
    "**Syntax:**\n",
    "\n",
    "```python\n",
    "variable = (false_val, true_val)[condition]\n"
   ]
  },
  {
   "cell_type": "code",
   "execution_count": 8,
   "id": "fa52dda5",
   "metadata": {},
   "outputs": [
    {
     "name": "stdout",
     "output_type": "stream",
     "text": [
      "Voting status: Eligible\n"
     ]
    }
   ],
   "source": [
    "\n",
    "# Example 1: Voting eligibility\n",
    "age = int(input(\"Enter your age: \"))\n",
    "# If age >= 18 is True → index 1, else → index 0\n",
    "vote = (\"Not eligible\", \"Eligible\")[age >= 18]\n",
    "print(\"Voting status:\", vote)\n",
    "\n"
   ]
  },
  {
   "cell_type": "code",
   "execution_count": 11,
   "id": "24b1486d",
   "metadata": {},
   "outputs": [
    {
     "name": "stdout",
     "output_type": "stream",
     "text": [
      "Tax amount: 5000.0\n"
     ]
    }
   ],
   "source": [
    "# Example 2: Tiered tax rate\n",
    "salary = float(input(\"Enter your salary: \"))\n",
    "# If salary <= 50000 is True → index 1 (lower rate), else → index 0 (higher rate)\n",
    "tax = (salary * 0.2, salary * 0.1)[salary <= 50000]\n",
    "print(\"Tax amount:\", tax)\n"
   ]
  },
  {
   "cell_type": "markdown",
   "id": "c3938d34",
   "metadata": {},
   "source": [
    "## 2. Strings  \n",
    "Strings in Python can be created using single or double quotation marks.\n",
    "\n",
    "<a id=\"2-strings\"></a>\n",
    "\n",
    "\n",
    "Assign a string to a variable by using the variable name, an equals sign, and the string value.\n",
    "\n"
   ]
  },
  {
   "cell_type": "code",
   "execution_count": null,
   "id": "b37c73ab",
   "metadata": {},
   "outputs": [
    {
     "name": "stdout",
     "output_type": "stream",
     "text": [
      "Welcome to Python!\n",
      "Let's write some code.\n",
      "This is a string\n",
      "spanning multiple lines,\n",
      "created using triple quotes.\n"
     ]
    }
   ],
   "source": [
    "msg1 = 'Welcome to Python!'\n",
    "msg2 = \"Let's write some code.\"\n",
    "\n",
    "print(msg1)\n",
    "print(msg2)"
   ]
  },
  {
   "cell_type": "markdown",
   "id": "5f53ee5c",
   "metadata": {},
   "source": [
    "**Quotes Inside Strings**  \n",
    "You can use single quotes inside double quotes or double quotes inside single quotes.\n"
   ]
  },
  {
   "cell_type": "code",
   "execution_count": 3,
   "id": "8996f5c4",
   "metadata": {},
   "outputs": [
    {
     "name": "stdout",
     "output_type": "stream",
     "text": [
      "It's a great day for coding.\n",
      "He said, \"Keep learning!\"\n",
      "This is called a \"string\" in Python.\n"
     ]
    }
   ],
   "source": [
    "print(\"It's a great day for coding.\")\n",
    "print('He said, \"Keep learning!\"')\n",
    "print('This is called a \"string\" in Python.')"
   ]
  },
  {
   "cell_type": "markdown",
   "id": "c576ed8d",
   "metadata": {},
   "source": [
    "**Multiline Strings (Triple Quotes)**\n",
    "Multiline strings can be created using triple quotes—either single or double.\n"
   ]
  },
  {
   "cell_type": "code",
   "execution_count": 5,
   "id": "cb9075dc",
   "metadata": {},
   "outputs": [
    {
     "name": "stdout",
     "output_type": "stream",
     "text": [
      "Roses are red,\n",
      "Violets are blue,\n",
      "Python is awesome,\n",
      "And so are you.\n"
     ]
    }
   ],
   "source": [
    "poem = \"\"\"Roses are red,\n",
    "Violets are blue,\n",
    "Python is awesome,\n",
    "And so are you.\"\"\"\n",
    "print(poem)\n"
   ]
  },
  {
   "cell_type": "markdown",
   "id": "732ac83f",
   "metadata": {},
   "source": [
    "**String Length**\n",
    "\n",
    "Use the `len()` function to get the number of characters in a string.  \n",
    "*Spaces are also counted as characters in the length.*"
   ]
  },
  {
   "cell_type": "code",
   "execution_count": 9,
   "id": "ea385265",
   "metadata": {},
   "outputs": [
    {
     "name": "stdout",
     "output_type": "stream",
     "text": [
      "Total characters: 28\n"
     ]
    }
   ],
   "source": [
    "sentence = \"Explore the world of Python.\"\n",
    "print(\"Total characters:\", len(sentence))"
   ]
  },
  {
   "cell_type": "markdown",
   "id": "ee81a737",
   "metadata": {},
   "source": [
    "**Concatenation**\n",
    "\n",
    "You can join two or more strings together using the `+` operator."
   ]
  },
  {
   "cell_type": "code",
   "execution_count": 8,
   "id": "2defd748",
   "metadata": {},
   "outputs": [
    {
     "name": "stdout",
     "output_type": "stream",
     "text": [
      "hello world\n"
     ]
    }
   ],
   "source": [
    "first = \"hello \"\n",
    "second = \"world\"\n",
    "combined = first + second\n",
    "print(combined)"
   ]
  },
  {
   "cell_type": "markdown",
   "id": "b90e8c45",
   "metadata": {},
   "source": [
    "### 2.1 Indexing  \n",
    "<a id=\"21-indexing\"></a>  \n",
    "Strings in Python are ordered sequences, and you can access individual characters using **zero-based indexing**.  \n",
    "Indexing starts from `0` for the first character. Negative indexes allow access from the end.\n"
   ]
  },
  {
   "cell_type": "code",
   "execution_count": 12,
   "id": "bbcdbe12",
   "metadata": {},
   "outputs": [
    {
     "name": "stdout",
     "output_type": "stream",
     "text": [
      "First character: M\n",
      "Fifth character: m\n",
      "Last character: s\n",
      "Second last character: i\n"
     ]
    }
   ],
   "source": [
    "user_name = \"Muhammad Awais\"\n",
    "\n",
    "# Accessing characters using positive index\n",
    "print(\"First character:\", user_name[0])      # 'M'\n",
    "print(\"Fifth character:\", user_name[4])      # 'm'\n",
    "\n",
    "# Accessing characters using negative index\n",
    "print(\"Last character:\", user_name[-1])      # 's'\n",
    "print(\"Second last character:\", user_name[-2])  # 'a'\n",
    "\n",
    "# Strings are immutable; the following assignment would raise an error:\n",
    "# user_name[0] = 'Z'\n"
   ]
  },
  {
   "cell_type": "markdown",
   "id": "7005efc5",
   "metadata": {},
   "source": [
    "### 2.2 Slicing  \n",
    "<a id=\"22-slicing\"></a>  \n",
    "Extract a substring using `string[start:end]`; the character at the end index is **not** included. Omitting `start` defaults to `0`, omitting `end` defaults to `len(string)`.\n"
   ]
  },
  {
   "cell_type": "code",
   "execution_count": 15,
   "id": "2c32fde9",
   "metadata": {},
   "outputs": [
    {
     "name": "stdout",
     "output_type": "stream",
     "text": [
      "Slice [1:7] = achine\n",
      "Slice [:7] = Machine\n",
      "Slice [8:] = Learning\n",
      "Slice [-8:] = Learning\n",
      "Slice [:-1] = Machine_Learnin\n",
      "Slice [2:-2] = chine_Learni\n",
      "Slice [:] = Machine_Learning\n"
     ]
    }
   ],
   "source": [
    "text = \"Machine_Learning\"\n",
    "\n",
    "# Characters from index 1 up to (but not including) 7\n",
    "print(\"Slice [1:7] =\", text[1:7])         # 'achine'\n",
    "\n",
    "# From the beginning up to index 7\n",
    "print(\"Slice [:7] =\", text[:7])           # 'Machine'\n",
    "\n",
    "# From index 8 to the end\n",
    "print(\"Slice [8:] =\", text[8:])           # 'Learning'\n",
    "\n",
    "# Using negative indices: last 8 characters\n",
    "print(\"Slice [-8:] =\", text[-8:])         # 'Learning'\n",
    "\n",
    "# Excluding the last character\n",
    "print(\"Slice [:-1] =\", text[:-1])         # 'Machine_Learnin'\n",
    "\n",
    "# A slice with both a positive start and negative end\n",
    "print(\"Slice [2:-2] =\", text[2:-2])       # 'chine_Learni'\n",
    "\n",
    "# The entire string\n",
    "print(\"Slice [:] =\", text[:])             # 'Machine_Learning'\n"
   ]
  },
  {
   "cell_type": "markdown",
   "id": "3f757fb6",
   "metadata": {},
   "source": [
    "### 2.3 String Methods  \n",
    "<a id=\"23-string-methods\"></a>  \n",
    "Common built-in methods to transform, inspect, and query string data.\n",
    "\n",
    "| Method               | Description                                               |\n",
    "|----------------------|-----------------------------------------------------------|\n",
    "| `upper()`            | Convert all characters to uppercase                       |\n",
    "| `lower()`            | Convert all characters to lowercase                       |\n",
    "| `strip()`            | Remove leading and trailing whitespace                    |\n",
    "| `replace(old,new)`   | Replace all occurrences of `old` with `new`               |\n",
    "| `split(sep)`         | Split into a list of substrings using `sep` as delimiter |\n",
    "| `endswith(suffix)`   | Return `True` if the string ends with `suffix`            |\n",
    "| `startswith(pref)`   | Return `True` if the string starts with `pref`            |\n",
    "| `capitalize()`       | Capitalize only the first character                       |\n",
    "| `title()`            | Capitalize the first character of each word               |\n",
    "| `find(sub)`          | Return lowest index of `sub`, or `-1` if not found        |\n",
    "| `index(sub)`         | Return lowest index of `sub`, or raise a `ValueError`     |\n",
    "| `count(sub)`         | Count non-overlapping occurrences of `sub`                |\n",
    "| `isalpha()`          | Return `True` if all characters are alphabetic            |\n",
    "| `isdigit()`          | Return `True` if all characters are numeric               |\n",
    "| `swapcase()`         | Swap case of all characters                               |\n"
   ]
  },
  {
   "cell_type": "code",
   "execution_count": 19,
   "id": "58c867b1",
   "metadata": {},
   "outputs": [
    {
     "name": "stdout",
     "output_type": "stream",
     "text": [
      "upper():  DATA_SCIENCE 101 \n",
      "lower():  data_science 101 \n",
      "strip(): Data_Science 101\n",
      "replace('101','2025'):  Data_Science 2025 \n",
      "split(' '): ['', 'Data_Science', '101', '']\n",
      "endswith('101 '): False\n",
      "startswith(' Da'): False\n",
      "capitalize():  data_science 101 \n",
      "title() on 'machine learning': Machine Learning\n",
      "find('Science'): 6\n",
      "index('Data'): 1\n",
      "count(' '): 3\n",
      "isalpha() on 'OpenAI': True\n",
      "isdigit() on '12345': True\n",
      "swapcase():  dATA_sCIENCE 101 \n"
     ]
    }
   ],
   "source": [
    "s = \" Data_Science 101 \"\n",
    "\n",
    "print(\"upper():\", s.upper())                   # ' DATA_SCIENCE 101 '\n",
    "print(\"lower():\", s.lower())                   # ' data_science 101 '\n",
    "print(\"strip():\", s.strip())                   # 'Data_Science 101'\n",
    "\n",
    "print(\"replace('101','2025'):\", s.replace(\"101\", \"2025\"))  \n",
    "                                              # ' Data_Science 2025 '\n",
    "print(\"split(' '):\", s.split(\" \"))             # ['', '', 'Data_Science', '101', '', '']\n",
    "\n",
    "print(\"endswith('101 '):\", s.endswith(\"101  \"))  # True\n",
    "print(\"startswith(' Da'):\", s.startswith(\"  Da\")) # True\n",
    "\n",
    "print(\"capitalize():\", s.capitalize())         # ' data_science 101 '\n",
    "print(\"title() on 'machine learning':\", \"machine learning\".title())  \n",
    "                                              # 'Machine Learning'\n",
    "\n",
    "print(\"find('Science'):\", s.find(\"Science\"))   # 7\n",
    "print(\"index('Data'):\", s.index(\"Data\"))       # 2\n",
    "\n",
    "print(\"count(' '):\", s.count(\" \"))             # 6\n",
    "\n",
    "print(\"isalpha() on 'OpenAI':\", \"OpenAI\".isalpha())  # True\n",
    "print(\"isdigit() on '12345':\", \"12345\".isdigit())    # True\n",
    "\n",
    "print(\"swapcase():\", s.swapcase())             # ' dATA_sCIENCE 101 '\n"
   ]
  },
  {
   "cell_type": "markdown",
   "id": "13f9f64f",
   "metadata": {},
   "source": [
    "### 2.4 Escape Characters  \n",
    "<a id=\"24-escape-character\"></a>  \n",
    "Escape sequences begin with a backslash `\\` to represent characters that cannot be directly included.\n",
    "\n",
    "| Code  | Result         | Description         |\n",
    "|-------|----------------|---------------------|\n",
    "| `\\'`  | `'`            | Single quote       |\n",
    "| `\\\\`  | `\\`            | Backslash          |\n",
    "| `\\n`  | (newline)      | New line           |\n",
    "| `\\r`  | (carriage return) | Carriage return |\n",
    "| `\\t`  | (tab)          | Horizontal tab     |\n"
   ]
  },
  {
   "cell_type": "code",
   "execution_count": 23,
   "id": "a3345c4a",
   "metadata": {},
   "outputs": [
    {
     "name": "stdout",
     "output_type": "stream",
     "text": [
      "It's a beautiful day!\n",
      "Backslash: \\\\\n",
      "Line1\n",
      "Line2\n",
      "Line3\n",
      "Column A\tColumn B\n",
      "ABCDE\n"
     ]
    }
   ],
   "source": [
    "# Demonstrating various escape characters\n",
    "print('It\\'s a beautiful day!')       # Single quote\n",
    "print(\"Backslash: \\\\\\\\\")              # Backslash\n",
    "print(\"Line1\\nLine2\\nLine3\")          # New lines\n",
    "print(\"Column A\\tColumn B\")           # Tab between columns\n",
    "print(\"12345\\rABCDE\")                 # Carriage return (overwrites start of line)\n"
   ]
  },
  {
   "cell_type": "markdown",
   "id": "35f9a98f",
   "metadata": {},
   "source": [
    "## 3. Practice Questions (with Solutions)   \n",
    "Try these common Python problems to test your understanding!  \n",
    "\n",
    "<a id=\"3-practice-questions-with-solutions\"></a>  "
   ]
  },
  {
   "cell_type": "markdown",
   "id": "736c795e",
   "metadata": {},
   "source": [
    "### Q1. Write a program to check if a number entered by the user is odd or even.  \n",
    "<details>  \n",
    "<summary>💡 View Solution</summary>  \n",
    "\n",
    "```python\n",
    "num = int(input(\"Enter a number: \"))\n",
    "if num % 2 == 0:\n",
    "    print(f\"{num} is even.\")\n",
    "else:\n",
    "    print(f\"{num} is odd.\")"
   ]
  },
  {
   "cell_type": "markdown",
   "id": "3a9e53d5",
   "metadata": {},
   "source": [
    "### Q2. Write a program to find the greatest of three numbers entered by the user.  \n",
    "<details>  \n",
    "<summary>💡 View Solution</summary>  \n",
    "\n",
    "```python\n",
    "a = float(input(\"Enter first number: \"))\n",
    "b = float(input(\"Enter second number: \"))\n",
    "c = float(input(\"Enter third number: \"))\n",
    "\n",
    "if a >= b and a >= c:\n",
    "    greatest = a\n",
    "elif b >= a and b >= c:\n",
    "    greatest = b\n",
    "else:\n",
    "    greatest = c\n",
    "\n",
    "print(\"The greatest number is:\", greatest)"
   ]
  },
  {
   "cell_type": "markdown",
   "id": "9d16c9b1",
   "metadata": {},
   "source": [
    "### Q3. Write a program to check if a number is a multiple of 7 or not.  \n",
    "<details>  \n",
    "<summary>💡 View Solution</summary>  \n",
    "\n",
    "```python\n",
    "n = int(input(\"Enter a number: \"))\n",
    "if n % 7 == 0:\n",
    "    print(f\"{n} is a multiple of 7.\")\n",
    "else:\n",
    "    print(f\"{n} is not a multiple of 7.\")\n"
   ]
  },
  {
   "cell_type": "markdown",
   "id": "0d0e050c",
   "metadata": {},
   "source": [
    "### Q4. Write a program to input the user’s first name and print its length.  \n",
    "<details>  \n",
    "<summary>💡 View Solution</summary>  \n",
    "\n",
    "```python\n",
    "first_name = input(\"Enter your first name: \")\n",
    "print(\"Length of your name:\", len(first_name))\n"
   ]
  },
  {
   "cell_type": "markdown",
   "id": "89331002",
   "metadata": {},
   "source": [
    "### Q5. Write a program to find the occurrence of 'S' in a string.  \n",
    "<details>  \n",
    "<summary>💡 View Solution</summary>  \n",
    "\n",
    "```python\n",
    "text = input(\"Enter a string: \")\n",
    "count_s = text.count('S')\n",
    "print(\"Number of 'S' characters:\", count_s)\n"
   ]
  },
  {
   "cell_type": "code",
   "execution_count": null,
   "id": "d94190e0",
   "metadata": {},
   "outputs": [],
   "source": []
  }
 ],
 "metadata": {
  "kernelspec": {
   "display_name": "Python 3",
   "language": "python",
   "name": "python3"
  },
  "language_info": {
   "codemirror_mode": {
    "name": "ipython",
    "version": 3
   },
   "file_extension": ".py",
   "mimetype": "text/x-python",
   "name": "python",
   "nbconvert_exporter": "python",
   "pygments_lexer": "ipython3",
   "version": "3.13.1"
  }
 },
 "nbformat": 4,
 "nbformat_minor": 5
}
